{
  "nbformat": 4,
  "nbformat_minor": 0,
  "metadata": {
    "colab": {
      "name": "Evaluation.ipynb",
      "provenance": []
    },
    "kernelspec": {
      "name": "python3",
      "display_name": "Python 3"
    },
    "language_info": {
      "name": "python"
    }
  },
  "cells": [
    {
      "cell_type": "code",
      "execution_count": 1,
      "metadata": {
        "colab": {
          "base_uri": "https://localhost:8080/"
        },
        "id": "InnIxLWm1GPc",
        "outputId": "265d0203-72bc-468f-e44c-d0163f6ac986"
      },
      "outputs": [
        {
          "output_type": "stream",
          "name": "stdout",
          "text": [
            "Mounted at /content/drive\n"
          ]
        }
      ],
      "source": [
        "from google.colab import drive\n",
        "drive.mount('/content/drive')"
      ]
    },
    {
      "cell_type": "code",
      "source": [
        "path = r'/content/drive/MyDrive/Test_Data/*.*'"
      ],
      "metadata": {
        "id": "CYWfqhvW1r0v"
      },
      "execution_count": 2,
      "outputs": []
    },
    {
      "cell_type": "code",
      "source": [
        "images_list=[]\n",
        "import glob\n",
        "import cv2\n",
        "for file in glob.glob(path):\n",
        "    print(file)\n",
        "    img = cv2.imread(file)\n",
        "    images_list.append(img)\n"
      ],
      "metadata": {
        "colab": {
          "base_uri": "https://localhost:8080/"
        },
        "id": "hISkKkLB1_Eq",
        "outputId": "b53dd3bc-fc5a-4d0f-a1fd-88562fefcb48"
      },
      "execution_count": 3,
      "outputs": [
        {
          "output_type": "stream",
          "name": "stdout",
          "text": [
            "/content/drive/MyDrive/Test_Data/1.png\n",
            "/content/drive/MyDrive/Test_Data/2.png\n",
            "/content/drive/MyDrive/Test_Data/3.png\n",
            "/content/drive/MyDrive/Test_Data/4.png\n",
            "/content/drive/MyDrive/Test_Data/5.png\n",
            "/content/drive/MyDrive/Test_Data/6.png\n",
            "/content/drive/MyDrive/Test_Data/7.png\n",
            "/content/drive/MyDrive/Test_Data/8.png\n",
            "/content/drive/MyDrive/Test_Data/9.png\n",
            "/content/drive/MyDrive/Test_Data/10.png\n",
            "/content/drive/MyDrive/Test_Data/11.png\n",
            "/content/drive/MyDrive/Test_Data/12.png\n",
            "/content/drive/MyDrive/Test_Data/13.png\n",
            "/content/drive/MyDrive/Test_Data/14.png\n",
            "/content/drive/MyDrive/Test_Data/15.png\n",
            "/content/drive/MyDrive/Test_Data/16.png\n",
            "/content/drive/MyDrive/Test_Data/17.png\n",
            "/content/drive/MyDrive/Test_Data/18.png\n",
            "/content/drive/MyDrive/Test_Data/19.png\n",
            "/content/drive/MyDrive/Test_Data/20.png\n",
            "/content/drive/MyDrive/Test_Data/21.png\n",
            "/content/drive/MyDrive/Test_Data/22.png\n",
            "/content/drive/MyDrive/Test_Data/23.png\n",
            "/content/drive/MyDrive/Test_Data/24.png\n",
            "/content/drive/MyDrive/Test_Data/25.png\n",
            "/content/drive/MyDrive/Test_Data/26.png\n",
            "/content/drive/MyDrive/Test_Data/27.png\n",
            "/content/drive/MyDrive/Test_Data/28.png\n",
            "/content/drive/MyDrive/Test_Data/29.png\n",
            "/content/drive/MyDrive/Test_Data/30.png\n",
            "/content/drive/MyDrive/Test_Data/31.png\n",
            "/content/drive/MyDrive/Test_Data/32.png\n",
            "/content/drive/MyDrive/Test_Data/33.png\n",
            "/content/drive/MyDrive/Test_Data/34.png\n",
            "/content/drive/MyDrive/Test_Data/35.png\n",
            "/content/drive/MyDrive/Test_Data/36.png\n",
            "/content/drive/MyDrive/Test_Data/37.png\n",
            "/content/drive/MyDrive/Test_Data/38.png\n",
            "/content/drive/MyDrive/Test_Data/39.png\n",
            "/content/drive/MyDrive/Test_Data/40.png\n",
            "/content/drive/MyDrive/Test_Data/41.png\n",
            "/content/drive/MyDrive/Test_Data/42.png\n",
            "/content/drive/MyDrive/Test_Data/43.png\n",
            "/content/drive/MyDrive/Test_Data/44.png\n"
          ]
        }
      ]
    },
    {
      "cell_type": "code",
      "source": [
        "path = r'/content/drive/MyDrive/Org_testout/*.*'"
      ],
      "metadata": {
        "id": "-I-ecSzl2Byn"
      },
      "execution_count": 4,
      "outputs": []
    },
    {
      "cell_type": "code",
      "source": [
        "images_list_actmodel=[]\n",
        "for i in range(44):\n",
        "  path = path = \"/content/drive/MyDrive/Org_testout/\"+str(i+1)+\"_out.png\"\n",
        "  img = cv2.imread(path)\n",
        "  images_list_actmodel.append(img)"
      ],
      "metadata": {
        "id": "GxM6yTcS2d3I"
      },
      "execution_count": 9,
      "outputs": []
    },
    {
      "cell_type": "code",
      "source": [
        "images_list_finetune=[]\n",
        "for i in range(44):\n",
        "  path = path = \"/content/drive/MyDrive/results/\"+str(i+1)+\"_out.png\"\n",
        "  img = cv2.imread(path)\n",
        "  images_list_finetune.append(img)"
      ],
      "metadata": {
        "id": "8-drIgze2-HH"
      },
      "execution_count": 10,
      "outputs": []
    },
    {
      "cell_type": "code",
      "source": [
        "width = int(images_list_finetune[0].shape[1])\n",
        "height = int(images_list_finetune[0].shape[0] * 1.005)\n",
        "dim = (width, height)"
      ],
      "metadata": {
        "id": "beOe22Zl7ZpM"
      },
      "execution_count": 17,
      "outputs": []
    },
    {
      "cell_type": "code",
      "source": [
        "images_list_finetune_fin=[]"
      ],
      "metadata": {
        "id": "sVO9KDIH8KYq"
      },
      "execution_count": 18,
      "outputs": []
    },
    {
      "cell_type": "code",
      "source": [
        "for i in range(len(images_list_finetune)):\n",
        "\n",
        "  resized = cv2.resize(images_list_finetune[i], dim, interpolation = cv2.INTER_AREA)\n",
        "  images_list_finetune_fin.append(resized)"
      ],
      "metadata": {
        "id": "PYbOEHBr7mZx"
      },
      "execution_count": 19,
      "outputs": []
    },
    {
      "cell_type": "markdown",
      "source": [
        "MSE"
      ],
      "metadata": {
        "id": "7mjbwZBrO-WT"
      }
    },
    {
      "cell_type": "code",
      "source": [
        "def MSE(A, B):\n",
        "  Y = np.square(np.subtract(A,B)).mean()\n",
        "  return Y"
      ],
      "metadata": {
        "id": "lag4goDEh15A"
      },
      "execution_count": 84,
      "outputs": []
    },
    {
      "cell_type": "code",
      "source": [
        "mse=[]\n",
        "for i in range(len(images_list)):\n",
        "  mse.append(MSE(images_list[i], images_list_finetune_fin[i]))"
      ],
      "metadata": {
        "id": "OPohWPnybS7Z"
      },
      "execution_count": 85,
      "outputs": []
    },
    {
      "cell_type": "code",
      "source": [
        "np.array(mse).mean()"
      ],
      "metadata": {
        "colab": {
          "base_uri": "https://localhost:8080/"
        },
        "id": "B0KSWWj2hksI",
        "outputId": "b8cf5210-a45f-412a-b458-0f2299f70b5a"
      },
      "execution_count": 91,
      "outputs": [
        {
          "output_type": "execute_result",
          "data": {
            "text/plain": [
              "68.52838078769058"
            ]
          },
          "metadata": {},
          "execution_count": 91
        }
      ]
    },
    {
      "cell_type": "code",
      "source": [
        "import pandas as pd\n",
        "df_mse = pd.DataFrame({'mse':mse})"
      ],
      "metadata": {
        "id": "16NUIFT0kbYt"
      },
      "execution_count": 93,
      "outputs": []
    },
    {
      "cell_type": "code",
      "source": [
        "df_mse.head()"
      ],
      "metadata": {
        "colab": {
          "base_uri": "https://localhost:8080/",
          "height": 206
        },
        "id": "HcFVuM-Bkq6c",
        "outputId": "e02cd7a1-7df8-4ed3-ee31-b239f8a2e330"
      },
      "execution_count": 94,
      "outputs": [
        {
          "output_type": "execute_result",
          "data": {
            "text/plain": [
              "         mse\n",
              "0  63.798937\n",
              "1  57.248417\n",
              "2  64.867320\n",
              "3  88.968584\n",
              "4  80.259455"
            ],
            "text/html": [
              "\n",
              "  <div id=\"df-180f0318-8913-44e3-be53-93b3707a3a30\">\n",
              "    <div class=\"colab-df-container\">\n",
              "      <div>\n",
              "<style scoped>\n",
              "    .dataframe tbody tr th:only-of-type {\n",
              "        vertical-align: middle;\n",
              "    }\n",
              "\n",
              "    .dataframe tbody tr th {\n",
              "        vertical-align: top;\n",
              "    }\n",
              "\n",
              "    .dataframe thead th {\n",
              "        text-align: right;\n",
              "    }\n",
              "</style>\n",
              "<table border=\"1\" class=\"dataframe\">\n",
              "  <thead>\n",
              "    <tr style=\"text-align: right;\">\n",
              "      <th></th>\n",
              "      <th>mse</th>\n",
              "    </tr>\n",
              "  </thead>\n",
              "  <tbody>\n",
              "    <tr>\n",
              "      <th>0</th>\n",
              "      <td>63.798937</td>\n",
              "    </tr>\n",
              "    <tr>\n",
              "      <th>1</th>\n",
              "      <td>57.248417</td>\n",
              "    </tr>\n",
              "    <tr>\n",
              "      <th>2</th>\n",
              "      <td>64.867320</td>\n",
              "    </tr>\n",
              "    <tr>\n",
              "      <th>3</th>\n",
              "      <td>88.968584</td>\n",
              "    </tr>\n",
              "    <tr>\n",
              "      <th>4</th>\n",
              "      <td>80.259455</td>\n",
              "    </tr>\n",
              "  </tbody>\n",
              "</table>\n",
              "</div>\n",
              "      <button class=\"colab-df-convert\" onclick=\"convertToInteractive('df-180f0318-8913-44e3-be53-93b3707a3a30')\"\n",
              "              title=\"Convert this dataframe to an interactive table.\"\n",
              "              style=\"display:none;\">\n",
              "        \n",
              "  <svg xmlns=\"http://www.w3.org/2000/svg\" height=\"24px\"viewBox=\"0 0 24 24\"\n",
              "       width=\"24px\">\n",
              "    <path d=\"M0 0h24v24H0V0z\" fill=\"none\"/>\n",
              "    <path d=\"M18.56 5.44l.94 2.06.94-2.06 2.06-.94-2.06-.94-.94-2.06-.94 2.06-2.06.94zm-11 1L8.5 8.5l.94-2.06 2.06-.94-2.06-.94L8.5 2.5l-.94 2.06-2.06.94zm10 10l.94 2.06.94-2.06 2.06-.94-2.06-.94-.94-2.06-.94 2.06-2.06.94z\"/><path d=\"M17.41 7.96l-1.37-1.37c-.4-.4-.92-.59-1.43-.59-.52 0-1.04.2-1.43.59L10.3 9.45l-7.72 7.72c-.78.78-.78 2.05 0 2.83L4 21.41c.39.39.9.59 1.41.59.51 0 1.02-.2 1.41-.59l7.78-7.78 2.81-2.81c.8-.78.8-2.07 0-2.86zM5.41 20L4 18.59l7.72-7.72 1.47 1.35L5.41 20z\"/>\n",
              "  </svg>\n",
              "      </button>\n",
              "      \n",
              "  <style>\n",
              "    .colab-df-container {\n",
              "      display:flex;\n",
              "      flex-wrap:wrap;\n",
              "      gap: 12px;\n",
              "    }\n",
              "\n",
              "    .colab-df-convert {\n",
              "      background-color: #E8F0FE;\n",
              "      border: none;\n",
              "      border-radius: 50%;\n",
              "      cursor: pointer;\n",
              "      display: none;\n",
              "      fill: #1967D2;\n",
              "      height: 32px;\n",
              "      padding: 0 0 0 0;\n",
              "      width: 32px;\n",
              "    }\n",
              "\n",
              "    .colab-df-convert:hover {\n",
              "      background-color: #E2EBFA;\n",
              "      box-shadow: 0px 1px 2px rgba(60, 64, 67, 0.3), 0px 1px 3px 1px rgba(60, 64, 67, 0.15);\n",
              "      fill: #174EA6;\n",
              "    }\n",
              "\n",
              "    [theme=dark] .colab-df-convert {\n",
              "      background-color: #3B4455;\n",
              "      fill: #D2E3FC;\n",
              "    }\n",
              "\n",
              "    [theme=dark] .colab-df-convert:hover {\n",
              "      background-color: #434B5C;\n",
              "      box-shadow: 0px 1px 3px 1px rgba(0, 0, 0, 0.15);\n",
              "      filter: drop-shadow(0px 1px 2px rgba(0, 0, 0, 0.3));\n",
              "      fill: #FFFFFF;\n",
              "    }\n",
              "  </style>\n",
              "\n",
              "      <script>\n",
              "        const buttonEl =\n",
              "          document.querySelector('#df-180f0318-8913-44e3-be53-93b3707a3a30 button.colab-df-convert');\n",
              "        buttonEl.style.display =\n",
              "          google.colab.kernel.accessAllowed ? 'block' : 'none';\n",
              "\n",
              "        async function convertToInteractive(key) {\n",
              "          const element = document.querySelector('#df-180f0318-8913-44e3-be53-93b3707a3a30');\n",
              "          const dataTable =\n",
              "            await google.colab.kernel.invokeFunction('convertToInteractive',\n",
              "                                                     [key], {});\n",
              "          if (!dataTable) return;\n",
              "\n",
              "          const docLinkHtml = 'Like what you see? Visit the ' +\n",
              "            '<a target=\"_blank\" href=https://colab.research.google.com/notebooks/data_table.ipynb>data table notebook</a>'\n",
              "            + ' to learn more about interactive tables.';\n",
              "          element.innerHTML = '';\n",
              "          dataTable['output_type'] = 'display_data';\n",
              "          await google.colab.output.renderOutput(dataTable, element);\n",
              "          const docLink = document.createElement('div');\n",
              "          docLink.innerHTML = docLinkHtml;\n",
              "          element.appendChild(docLink);\n",
              "        }\n",
              "      </script>\n",
              "    </div>\n",
              "  </div>\n",
              "  "
            ]
          },
          "metadata": {},
          "execution_count": 94
        }
      ]
    },
    {
      "cell_type": "code",
      "source": [
        "from google.colab import files\n",
        "df_mse.to_csv('mse.csv') \n",
        "files.download('mse.csv')"
      ],
      "metadata": {
        "colab": {
          "base_uri": "https://localhost:8080/",
          "height": 17
        },
        "id": "1H1q6FaTkuCp",
        "outputId": "5ec4bb98-2d0d-4e7b-aa9e-31980ac438e4"
      },
      "execution_count": 95,
      "outputs": [
        {
          "output_type": "display_data",
          "data": {
            "text/plain": [
              "<IPython.core.display.Javascript object>"
            ],
            "application/javascript": [
              "\n",
              "    async function download(id, filename, size) {\n",
              "      if (!google.colab.kernel.accessAllowed) {\n",
              "        return;\n",
              "      }\n",
              "      const div = document.createElement('div');\n",
              "      const label = document.createElement('label');\n",
              "      label.textContent = `Downloading \"${filename}\": `;\n",
              "      div.appendChild(label);\n",
              "      const progress = document.createElement('progress');\n",
              "      progress.max = size;\n",
              "      div.appendChild(progress);\n",
              "      document.body.appendChild(div);\n",
              "\n",
              "      const buffers = [];\n",
              "      let downloaded = 0;\n",
              "\n",
              "      const channel = await google.colab.kernel.comms.open(id);\n",
              "      // Send a message to notify the kernel that we're ready.\n",
              "      channel.send({})\n",
              "\n",
              "      for await (const message of channel.messages) {\n",
              "        // Send a message to notify the kernel that we're ready.\n",
              "        channel.send({})\n",
              "        if (message.buffers) {\n",
              "          for (const buffer of message.buffers) {\n",
              "            buffers.push(buffer);\n",
              "            downloaded += buffer.byteLength;\n",
              "            progress.value = downloaded;\n",
              "          }\n",
              "        }\n",
              "      }\n",
              "      const blob = new Blob(buffers, {type: 'application/binary'});\n",
              "      const a = document.createElement('a');\n",
              "      a.href = window.URL.createObjectURL(blob);\n",
              "      a.download = filename;\n",
              "      div.appendChild(a);\n",
              "      a.click();\n",
              "      div.remove();\n",
              "    }\n",
              "  "
            ]
          },
          "metadata": {}
        },
        {
          "output_type": "display_data",
          "data": {
            "text/plain": [
              "<IPython.core.display.Javascript object>"
            ],
            "application/javascript": [
              "download(\"download_7f834c01-a637-4fd6-ad21-f5a939ed73ef\", \"mse.csv\", 918)"
            ]
          },
          "metadata": {}
        }
      ]
    },
    {
      "cell_type": "markdown",
      "source": [
        "PSNR"
      ],
      "metadata": {
        "id": "dY9iW7PUifPw"
      }
    },
    {
      "cell_type": "code",
      "source": [
        "from math import log10, sqrt\n",
        "import cv2\n",
        "import numpy as np\n",
        "  \n",
        "def PSNR(original, compressed):\n",
        "    mse = np.mean((original - compressed) ** 2)\n",
        "    if(mse == 0):  \n",
        "        return 100\n",
        "    max_pixel = 255.0\n",
        "    psnr = 20 * log10(max_pixel / sqrt(mse))\n",
        "    return psnr"
      ],
      "metadata": {
        "id": "R9KQD0n8igP8"
      },
      "execution_count": 86,
      "outputs": []
    },
    {
      "cell_type": "code",
      "source": [
        "psnr=[]\n",
        "for i in range(len(images_list)):\n",
        "  psnr.append(PSNR(images_list[i], images_list_finetune_fin[i]))"
      ],
      "metadata": {
        "id": "YlWfIH7ZiqYH"
      },
      "execution_count": 87,
      "outputs": []
    },
    {
      "cell_type": "code",
      "source": [
        "import pandas as pd\n",
        "df_psnr = pd.DataFrame({'psnr':psnr})"
      ],
      "metadata": {
        "id": "PpOV4I4flBX4"
      },
      "execution_count": 96,
      "outputs": []
    },
    {
      "cell_type": "code",
      "source": [
        "from google.colab import files\n",
        "df_psnr.to_csv('psnr.csv') \n",
        "files.download('psnr.csv')"
      ],
      "metadata": {
        "colab": {
          "base_uri": "https://localhost:8080/",
          "height": 17
        },
        "id": "qBXG3cC9lF_1",
        "outputId": "59c037b0-1f6f-4278-be94-5579f2b9625c"
      },
      "execution_count": 97,
      "outputs": [
        {
          "output_type": "display_data",
          "data": {
            "text/plain": [
              "<IPython.core.display.Javascript object>"
            ],
            "application/javascript": [
              "\n",
              "    async function download(id, filename, size) {\n",
              "      if (!google.colab.kernel.accessAllowed) {\n",
              "        return;\n",
              "      }\n",
              "      const div = document.createElement('div');\n",
              "      const label = document.createElement('label');\n",
              "      label.textContent = `Downloading \"${filename}\": `;\n",
              "      div.appendChild(label);\n",
              "      const progress = document.createElement('progress');\n",
              "      progress.max = size;\n",
              "      div.appendChild(progress);\n",
              "      document.body.appendChild(div);\n",
              "\n",
              "      const buffers = [];\n",
              "      let downloaded = 0;\n",
              "\n",
              "      const channel = await google.colab.kernel.comms.open(id);\n",
              "      // Send a message to notify the kernel that we're ready.\n",
              "      channel.send({})\n",
              "\n",
              "      for await (const message of channel.messages) {\n",
              "        // Send a message to notify the kernel that we're ready.\n",
              "        channel.send({})\n",
              "        if (message.buffers) {\n",
              "          for (const buffer of message.buffers) {\n",
              "            buffers.push(buffer);\n",
              "            downloaded += buffer.byteLength;\n",
              "            progress.value = downloaded;\n",
              "          }\n",
              "        }\n",
              "      }\n",
              "      const blob = new Blob(buffers, {type: 'application/binary'});\n",
              "      const a = document.createElement('a');\n",
              "      a.href = window.URL.createObjectURL(blob);\n",
              "      a.download = filename;\n",
              "      div.appendChild(a);\n",
              "      a.click();\n",
              "      div.remove();\n",
              "    }\n",
              "  "
            ]
          },
          "metadata": {}
        },
        {
          "output_type": "display_data",
          "data": {
            "text/plain": [
              "<IPython.core.display.Javascript object>"
            ],
            "application/javascript": [
              "download(\"download_1e8cce73-e44c-4577-b80c-f34b21c2d71c\", \"psnr.csv\", 947)"
            ]
          },
          "metadata": {}
        }
      ]
    }
  ]
}